{
 "cells": [
  {
   "cell_type": "code",
   "execution_count": 1,
   "id": "a4d45ddb",
   "metadata": {
    "_cell_guid": "b1076dfc-b9ad-4769-8c92-a6c4dae69d19",
    "_uuid": "8f2839f25d086af736a60e9eeb907d3b93b6e0e5",
    "execution": {
     "iopub.execute_input": "2023-06-11T16:03:44.294935Z",
     "iopub.status.busy": "2023-06-11T16:03:44.294540Z",
     "iopub.status.idle": "2023-06-11T16:03:48.398695Z",
     "shell.execute_reply": "2023-06-11T16:03:48.397790Z"
    },
    "papermill": {
     "duration": 4.115862,
     "end_time": "2023-06-11T16:03:48.401212",
     "exception": false,
     "start_time": "2023-06-11T16:03:44.285350",
     "status": "completed"
    },
    "tags": []
   },
   "outputs": [],
   "source": [
    "import pandas as pd \n",
    "import numpy as np\n",
    "import torch\n",
    "import torch.nn as nn\n",
    "import torch.optim as optim\n",
    "from sklearn.model_selection import train_test_split"
   ]
  },
  {
   "cell_type": "code",
   "execution_count": 2,
   "id": "e78612e0",
   "metadata": {
    "execution": {
     "iopub.execute_input": "2023-06-11T16:03:48.419228Z",
     "iopub.status.busy": "2023-06-11T16:03:48.418724Z",
     "iopub.status.idle": "2023-06-11T16:04:13.213450Z",
     "shell.execute_reply": "2023-06-11T16:04:13.212502Z"
    },
    "papermill": {
     "duration": 24.805947,
     "end_time": "2023-06-11T16:04:13.216457",
     "exception": false,
     "start_time": "2023-06-11T16:03:48.410510",
     "status": "completed"
    },
    "tags": []
   },
   "outputs": [],
   "source": [
    "df = pd.read_csv(\"/kaggle/input/cleaned-data-17lacs-dropped-samecorr1/droppedna_highcorrdropped_merged_file.csv\",encoding=\"utf-8\")"
   ]
  },
  {
   "cell_type": "code",
   "execution_count": 3,
   "id": "bedbb026",
   "metadata": {
    "execution": {
     "iopub.execute_input": "2023-06-11T16:04:13.238248Z",
     "iopub.status.busy": "2023-06-11T16:04:13.237812Z",
     "iopub.status.idle": "2023-06-11T16:04:13.272385Z",
     "shell.execute_reply": "2023-06-11T16:04:13.271593Z"
    },
    "papermill": {
     "duration": 0.047707,
     "end_time": "2023-06-11T16:04:13.274848",
     "exception": false,
     "start_time": "2023-06-11T16:04:13.227141",
     "status": "completed"
    },
    "tags": []
   },
   "outputs": [
    {
     "data": {
      "text/html": [
       "<div>\n",
       "<style scoped>\n",
       "    .dataframe tbody tr th:only-of-type {\n",
       "        vertical-align: middle;\n",
       "    }\n",
       "\n",
       "    .dataframe tbody tr th {\n",
       "        vertical-align: top;\n",
       "    }\n",
       "\n",
       "    .dataframe thead th {\n",
       "        text-align: right;\n",
       "    }\n",
       "</style>\n",
       "<table border=\"1\" class=\"dataframe\">\n",
       "  <thead>\n",
       "    <tr style=\"text-align: right;\">\n",
       "      <th></th>\n",
       "      <th>Unnamed: 0.2</th>\n",
       "      <th>Unnamed: 0</th>\n",
       "      <th>Unnamed: 0.1</th>\n",
       "      <th>0</th>\n",
       "      <th>1</th>\n",
       "      <th>2</th>\n",
       "      <th>3</th>\n",
       "      <th>4</th>\n",
       "      <th>5</th>\n",
       "      <th>6</th>\n",
       "      <th>...</th>\n",
       "      <th>72</th>\n",
       "      <th>73</th>\n",
       "      <th>74</th>\n",
       "      <th>75</th>\n",
       "      <th>76</th>\n",
       "      <th>77</th>\n",
       "      <th>78</th>\n",
       "      <th>79</th>\n",
       "      <th>80</th>\n",
       "      <th>81</th>\n",
       "    </tr>\n",
       "  </thead>\n",
       "  <tbody>\n",
       "    <tr>\n",
       "      <th>0</th>\n",
       "      <td>0</td>\n",
       "      <td>0</td>\n",
       "      <td>0</td>\n",
       "      <td>2541497</td>\n",
       "      <td>56</td>\n",
       "      <td>26325</td>\n",
       "      <td>22294</td>\n",
       "      <td>9018</td>\n",
       "      <td>25604</td>\n",
       "      <td>8390</td>\n",
       "      <td>...</td>\n",
       "      <td>1.713364</td>\n",
       "      <td>0.000000</td>\n",
       "      <td>0.115692</td>\n",
       "      <td>1.156922</td>\n",
       "      <td>0.269948</td>\n",
       "      <td>0.0</td>\n",
       "      <td>0.000000</td>\n",
       "      <td>0.0</td>\n",
       "      <td>0</td>\n",
       "      <td>0</td>\n",
       "    </tr>\n",
       "    <tr>\n",
       "      <th>1</th>\n",
       "      <td>1</td>\n",
       "      <td>1</td>\n",
       "      <td>1</td>\n",
       "      <td>2541785</td>\n",
       "      <td>50</td>\n",
       "      <td>26325</td>\n",
       "      <td>22294</td>\n",
       "      <td>9018</td>\n",
       "      <td>25604</td>\n",
       "      <td>12831</td>\n",
       "      <td>...</td>\n",
       "      <td>0.571121</td>\n",
       "      <td>0.571121</td>\n",
       "      <td>0.115692</td>\n",
       "      <td>1.002666</td>\n",
       "      <td>0.269948</td>\n",
       "      <td>0.0</td>\n",
       "      <td>37.384575</td>\n",
       "      <td>0.0</td>\n",
       "      <td>1</td>\n",
       "      <td>0</td>\n",
       "    </tr>\n",
       "  </tbody>\n",
       "</table>\n",
       "<p>2 rows × 80 columns</p>\n",
       "</div>"
      ],
      "text/plain": [
       "   Unnamed: 0.2  Unnamed: 0  Unnamed: 0.1        0   1      2      3     4  \\\n",
       "0             0           0             0  2541497  56  26325  22294  9018   \n",
       "1             1           1             1  2541785  50  26325  22294  9018   \n",
       "\n",
       "       5      6  ...        72        73        74        75        76   77  \\\n",
       "0  25604   8390  ...  1.713364  0.000000  0.115692  1.156922  0.269948  0.0   \n",
       "1  25604  12831  ...  0.571121  0.571121  0.115692  1.002666  0.269948  0.0   \n",
       "\n",
       "          78   79  80  81  \n",
       "0   0.000000  0.0   0   0  \n",
       "1  37.384575  0.0   1   0  \n",
       "\n",
       "[2 rows x 80 columns]"
      ]
     },
     "execution_count": 3,
     "metadata": {},
     "output_type": "execute_result"
    }
   ],
   "source": [
    "df.head(n=2)"
   ]
  },
  {
   "cell_type": "code",
   "execution_count": 4,
   "id": "b497b517",
   "metadata": {
    "execution": {
     "iopub.execute_input": "2023-06-11T16:04:13.297348Z",
     "iopub.status.busy": "2023-06-11T16:04:13.297009Z",
     "iopub.status.idle": "2023-06-11T16:04:13.628078Z",
     "shell.execute_reply": "2023-06-11T16:04:13.627139Z"
    },
    "papermill": {
     "duration": 0.345197,
     "end_time": "2023-06-11T16:04:13.630724",
     "exception": false,
     "start_time": "2023-06-11T16:04:13.285527",
     "status": "completed"
    },
    "tags": []
   },
   "outputs": [],
   "source": [
    "df.drop([\"Unnamed: 0.2\",\"Unnamed: 0\",\"Unnamed: 0.1\"],axis=1,inplace=True)"
   ]
  },
  {
   "cell_type": "code",
   "execution_count": 5,
   "id": "425500c9",
   "metadata": {
    "execution": {
     "iopub.execute_input": "2023-06-11T16:04:13.649910Z",
     "iopub.status.busy": "2023-06-11T16:04:13.648431Z",
     "iopub.status.idle": "2023-06-11T16:04:13.787455Z",
     "shell.execute_reply": "2023-06-11T16:04:13.786012Z"
    },
    "papermill": {
     "duration": 0.151682,
     "end_time": "2023-06-11T16:04:13.790838",
     "exception": false,
     "start_time": "2023-06-11T16:04:13.639156",
     "status": "completed"
    },
    "tags": []
   },
   "outputs": [
    {
     "name": "stdout",
     "output_type": "stream",
     "text": [
      "False\n"
     ]
    }
   ],
   "source": [
    "print(df.isnull().sum().any()>=1)"
   ]
  },
  {
   "cell_type": "code",
   "execution_count": 6,
   "id": "dc7d0b4a",
   "metadata": {
    "execution": {
     "iopub.execute_input": "2023-06-11T16:04:13.807461Z",
     "iopub.status.busy": "2023-06-11T16:04:13.807182Z",
     "iopub.status.idle": "2023-06-11T16:04:13.825718Z",
     "shell.execute_reply": "2023-06-11T16:04:13.824827Z"
    },
    "papermill": {
     "duration": 0.029034,
     "end_time": "2023-06-11T16:04:13.827736",
     "exception": false,
     "start_time": "2023-06-11T16:04:13.798702",
     "status": "completed"
    },
    "tags": []
   },
   "outputs": [
    {
     "data": {
      "text/html": [
       "<div>\n",
       "<style scoped>\n",
       "    .dataframe tbody tr th:only-of-type {\n",
       "        vertical-align: middle;\n",
       "    }\n",
       "\n",
       "    .dataframe tbody tr th {\n",
       "        vertical-align: top;\n",
       "    }\n",
       "\n",
       "    .dataframe thead th {\n",
       "        text-align: right;\n",
       "    }\n",
       "</style>\n",
       "<table border=\"1\" class=\"dataframe\">\n",
       "  <thead>\n",
       "    <tr style=\"text-align: right;\">\n",
       "      <th></th>\n",
       "      <th>0</th>\n",
       "      <th>1</th>\n",
       "      <th>2</th>\n",
       "      <th>3</th>\n",
       "      <th>4</th>\n",
       "      <th>5</th>\n",
       "      <th>6</th>\n",
       "      <th>7</th>\n",
       "      <th>8</th>\n",
       "      <th>9</th>\n",
       "      <th>...</th>\n",
       "      <th>72</th>\n",
       "      <th>73</th>\n",
       "      <th>74</th>\n",
       "      <th>75</th>\n",
       "      <th>76</th>\n",
       "      <th>77</th>\n",
       "      <th>78</th>\n",
       "      <th>79</th>\n",
       "      <th>80</th>\n",
       "      <th>81</th>\n",
       "    </tr>\n",
       "  </thead>\n",
       "  <tbody>\n",
       "    <tr>\n",
       "      <th>0</th>\n",
       "      <td>2541497</td>\n",
       "      <td>56</td>\n",
       "      <td>26325</td>\n",
       "      <td>22294</td>\n",
       "      <td>9018</td>\n",
       "      <td>25604</td>\n",
       "      <td>8390</td>\n",
       "      <td>27941</td>\n",
       "      <td>21218</td>\n",
       "      <td>869</td>\n",
       "      <td>...</td>\n",
       "      <td>1.713364</td>\n",
       "      <td>0.000000</td>\n",
       "      <td>0.115692</td>\n",
       "      <td>1.156922</td>\n",
       "      <td>0.269948</td>\n",
       "      <td>0.0</td>\n",
       "      <td>0.000000</td>\n",
       "      <td>0.0</td>\n",
       "      <td>0</td>\n",
       "      <td>0</td>\n",
       "    </tr>\n",
       "    <tr>\n",
       "      <th>1</th>\n",
       "      <td>2541785</td>\n",
       "      <td>50</td>\n",
       "      <td>26325</td>\n",
       "      <td>22294</td>\n",
       "      <td>9018</td>\n",
       "      <td>25604</td>\n",
       "      <td>12831</td>\n",
       "      <td>27941</td>\n",
       "      <td>21218</td>\n",
       "      <td>21533</td>\n",
       "      <td>...</td>\n",
       "      <td>0.571121</td>\n",
       "      <td>0.571121</td>\n",
       "      <td>0.115692</td>\n",
       "      <td>1.002666</td>\n",
       "      <td>0.269948</td>\n",
       "      <td>0.0</td>\n",
       "      <td>37.384575</td>\n",
       "      <td>0.0</td>\n",
       "      <td>1</td>\n",
       "      <td>0</td>\n",
       "    </tr>\n",
       "  </tbody>\n",
       "</table>\n",
       "<p>2 rows × 77 columns</p>\n",
       "</div>"
      ],
      "text/plain": [
       "         0   1      2      3     4      5      6      7      8      9  ...  \\\n",
       "0  2541497  56  26325  22294  9018  25604   8390  27941  21218    869  ...   \n",
       "1  2541785  50  26325  22294  9018  25604  12831  27941  21218  21533  ...   \n",
       "\n",
       "         72        73        74        75        76   77         78   79  80  \\\n",
       "0  1.713364  0.000000  0.115692  1.156922  0.269948  0.0   0.000000  0.0   0   \n",
       "1  0.571121  0.571121  0.115692  1.002666  0.269948  0.0  37.384575  0.0   1   \n",
       "\n",
       "   81  \n",
       "0   0  \n",
       "1   0  \n",
       "\n",
       "[2 rows x 77 columns]"
      ]
     },
     "execution_count": 6,
     "metadata": {},
     "output_type": "execute_result"
    }
   ],
   "source": [
    "df.head(n=2)"
   ]
  },
  {
   "cell_type": "code",
   "execution_count": 7,
   "id": "93e40a85",
   "metadata": {
    "execution": {
     "iopub.execute_input": "2023-06-11T16:04:13.845970Z",
     "iopub.status.busy": "2023-06-11T16:04:13.844553Z",
     "iopub.status.idle": "2023-06-11T16:04:14.442466Z",
     "shell.execute_reply": "2023-06-11T16:04:14.441512Z"
    },
    "papermill": {
     "duration": 0.60887,
     "end_time": "2023-06-11T16:04:14.444952",
     "exception": false,
     "start_time": "2023-06-11T16:04:13.836082",
     "status": "completed"
    },
    "tags": []
   },
   "outputs": [],
   "source": [
    "df = df.loc[:,\"2\":\"81\"]\n",
    "df.drop([\"80\"],axis=1,inplace=True)"
   ]
  },
  {
   "cell_type": "code",
   "execution_count": 8,
   "id": "d66c5ae4",
   "metadata": {
    "execution": {
     "iopub.execute_input": "2023-06-11T16:04:14.463103Z",
     "iopub.status.busy": "2023-06-11T16:04:14.461687Z",
     "iopub.status.idle": "2023-06-11T16:04:14.470100Z",
     "shell.execute_reply": "2023-06-11T16:04:14.469315Z"
    },
    "papermill": {
     "duration": 0.019303,
     "end_time": "2023-06-11T16:04:14.472181",
     "exception": false,
     "start_time": "2023-06-11T16:04:14.452878",
     "status": "completed"
    },
    "tags": []
   },
   "outputs": [
    {
     "data": {
      "text/plain": [
       "Index(['2', '3', '4', '5', '6', '7', '8', '9', '10', '11', '12', '13', '14',\n",
       "       '15', '16', '17', '18', '19', '20', '21', '22', '23', '26', '30', '31',\n",
       "       '32', '33', '34', '35', '36', '37', '38', '39', '40', '41', '42', '43',\n",
       "       '44', '45', '46', '47', '48', '49', '50', '51', '52', '53', '54', '55',\n",
       "       '56', '57', '58', '59', '60', '61', '62', '63', '64', '65', '66', '67',\n",
       "       '68', '69', '70', '71', '72', '73', '74', '75', '76', '77', '78', '79',\n",
       "       '81'],\n",
       "      dtype='object')"
      ]
     },
     "execution_count": 8,
     "metadata": {},
     "output_type": "execute_result"
    }
   ],
   "source": [
    "df.columns"
   ]
  },
  {
   "cell_type": "code",
   "execution_count": 9,
   "id": "fcdd307b",
   "metadata": {
    "execution": {
     "iopub.execute_input": "2023-06-11T16:04:14.489191Z",
     "iopub.status.busy": "2023-06-11T16:04:14.488400Z",
     "iopub.status.idle": "2023-06-11T16:04:15.963726Z",
     "shell.execute_reply": "2023-06-11T16:04:15.962753Z"
    },
    "papermill": {
     "duration": 1.486417,
     "end_time": "2023-06-11T16:04:15.966245",
     "exception": false,
     "start_time": "2023-06-11T16:04:14.479828",
     "status": "completed"
    },
    "tags": []
   },
   "outputs": [],
   "source": [
    "X_train, X_test, y_train, y_test = train_test_split(df.iloc[:,:-1], df.iloc[:,-1:], test_size=0.01)"
   ]
  },
  {
   "cell_type": "code",
   "execution_count": 10,
   "id": "3a1ea234",
   "metadata": {
    "execution": {
     "iopub.execute_input": "2023-06-11T16:04:15.985360Z",
     "iopub.status.busy": "2023-06-11T16:04:15.983818Z",
     "iopub.status.idle": "2023-06-11T16:04:16.121105Z",
     "shell.execute_reply": "2023-06-11T16:04:16.120237Z"
    },
    "papermill": {
     "duration": 0.149063,
     "end_time": "2023-06-11T16:04:16.123404",
     "exception": false,
     "start_time": "2023-06-11T16:04:15.974341",
     "status": "completed"
    },
    "tags": []
   },
   "outputs": [],
   "source": [
    "import xgboost as xgb\n",
    "from sklearn.model_selection import train_test_split\n",
    "from sklearn.metrics import accuracy_score\n",
    "\n",
    "\n",
    "# Set the parameters for XGBoost\n",
    "params = {\n",
    "    'objective': 'binary:logistic',\n",
    "    'eval_metric': 'logloss',\n",
    "    'eta': 0.05,\n",
    "    'max_depth': 100,\n",
    "    'tree_method': 'gpu_hist',  # Use GPU for tree building\n",
    "    'gpu_id': 0  # GPU device index\n",
    "}"
   ]
  },
  {
   "cell_type": "code",
   "execution_count": 11,
   "id": "5215ff0b",
   "metadata": {
    "execution": {
     "iopub.execute_input": "2023-06-11T16:04:16.140504Z",
     "iopub.status.busy": "2023-06-11T16:04:16.140226Z",
     "iopub.status.idle": "2023-06-11T16:04:21.842711Z",
     "shell.execute_reply": "2023-06-11T16:04:21.841758Z"
    },
    "papermill": {
     "duration": 5.713974,
     "end_time": "2023-06-11T16:04:21.845351",
     "exception": false,
     "start_time": "2023-06-11T16:04:16.131377",
     "status": "completed"
    },
    "tags": []
   },
   "outputs": [],
   "source": [
    "# Create DMatrix for XGBoost\n",
    "dtrain = xgb.DMatrix(X_train, label=y_train)\n",
    "dtest = xgb.DMatrix(X_test, label=y_test)"
   ]
  },
  {
   "cell_type": "code",
   "execution_count": 12,
   "id": "2dd20883",
   "metadata": {
    "execution": {
     "iopub.execute_input": "2023-06-11T16:04:21.863667Z",
     "iopub.status.busy": "2023-06-11T16:04:21.863374Z",
     "iopub.status.idle": "2023-06-11T16:04:21.868587Z",
     "shell.execute_reply": "2023-06-11T16:04:21.867774Z"
    },
    "papermill": {
     "duration": 0.01627,
     "end_time": "2023-06-11T16:04:21.870636",
     "exception": false,
     "start_time": "2023-06-11T16:04:21.854366",
     "status": "completed"
    },
    "tags": []
   },
   "outputs": [],
   "source": [
    "from tqdm import tqdm"
   ]
  },
  {
   "cell_type": "code",
   "execution_count": 13,
   "id": "8082a412",
   "metadata": {
    "execution": {
     "iopub.execute_input": "2023-06-11T16:04:21.888396Z",
     "iopub.status.busy": "2023-06-11T16:04:21.887636Z",
     "iopub.status.idle": "2023-06-11T16:08:16.537412Z",
     "shell.execute_reply": "2023-06-11T16:08:16.536433Z"
    },
    "papermill": {
     "duration": 234.661175,
     "end_time": "2023-06-11T16:08:16.539976",
     "exception": false,
     "start_time": "2023-06-11T16:04:21.878801",
     "status": "completed"
    },
    "tags": []
   },
   "outputs": [],
   "source": [
    "# Train the model\n",
    "model = xgb.train(params, dtrain, num_boost_round=100)"
   ]
  },
  {
   "cell_type": "code",
   "execution_count": 14,
   "id": "24db67e2",
   "metadata": {
    "execution": {
     "iopub.execute_input": "2023-06-11T16:08:16.559453Z",
     "iopub.status.busy": "2023-06-11T16:08:16.557831Z",
     "iopub.status.idle": "2023-06-11T16:08:18.325079Z",
     "shell.execute_reply": "2023-06-11T16:08:18.324143Z"
    },
    "papermill": {
     "duration": 1.779187,
     "end_time": "2023-06-11T16:08:18.327741",
     "exception": false,
     "start_time": "2023-06-11T16:08:16.548554",
     "status": "completed"
    },
    "tags": []
   },
   "outputs": [],
   "source": [
    "# Make predictions on the test set\n",
    "y_pred = model.predict(dtest)\n"
   ]
  },
  {
   "cell_type": "code",
   "execution_count": 15,
   "id": "279454ad",
   "metadata": {
    "execution": {
     "iopub.execute_input": "2023-06-11T16:08:18.346076Z",
     "iopub.status.busy": "2023-06-11T16:08:18.345784Z",
     "iopub.status.idle": "2023-06-11T16:08:18.352452Z",
     "shell.execute_reply": "2023-06-11T16:08:18.351404Z"
    },
    "papermill": {
     "duration": 0.019138,
     "end_time": "2023-06-11T16:08:18.355748",
     "exception": false,
     "start_time": "2023-06-11T16:08:18.336610",
     "status": "completed"
    },
    "tags": []
   },
   "outputs": [
    {
     "data": {
      "text/plain": [
       "array([0.02235937, 0.29520363, 0.1203369 , ..., 0.00753377, 0.87002087,\n",
       "       0.01315094], dtype=float32)"
      ]
     },
     "execution_count": 15,
     "metadata": {},
     "output_type": "execute_result"
    }
   ],
   "source": [
    "y_pred"
   ]
  },
  {
   "cell_type": "code",
   "execution_count": 16,
   "id": "2708006c",
   "metadata": {
    "execution": {
     "iopub.execute_input": "2023-06-11T16:08:18.373511Z",
     "iopub.status.busy": "2023-06-11T16:08:18.373236Z",
     "iopub.status.idle": "2023-06-11T16:08:18.379247Z",
     "shell.execute_reply": "2023-06-11T16:08:18.378414Z"
    },
    "papermill": {
     "duration": 0.017098,
     "end_time": "2023-06-11T16:08:18.381064",
     "exception": false,
     "start_time": "2023-06-11T16:08:18.363966",
     "status": "completed"
    },
    "tags": []
   },
   "outputs": [
    {
     "data": {
      "text/plain": [
       "(0.9963905, 0.0039743795)"
      ]
     },
     "execution_count": 16,
     "metadata": {},
     "output_type": "execute_result"
    }
   ],
   "source": [
    "y_pred.max(),y_pred.min()"
   ]
  },
  {
   "cell_type": "code",
   "execution_count": 17,
   "id": "696c7302",
   "metadata": {
    "execution": {
     "iopub.execute_input": "2023-06-11T16:08:18.399220Z",
     "iopub.status.busy": "2023-06-11T16:08:18.398487Z",
     "iopub.status.idle": "2023-06-11T16:08:18.402887Z",
     "shell.execute_reply": "2023-06-11T16:08:18.402068Z"
    },
    "papermill": {
     "duration": 0.015216,
     "end_time": "2023-06-11T16:08:18.404672",
     "exception": false,
     "start_time": "2023-06-11T16:08:18.389456",
     "status": "completed"
    },
    "tags": []
   },
   "outputs": [],
   "source": [
    "from sklearn.metrics import log_loss"
   ]
  },
  {
   "cell_type": "code",
   "execution_count": 18,
   "id": "1a93b05a",
   "metadata": {
    "execution": {
     "iopub.execute_input": "2023-06-11T16:08:18.423109Z",
     "iopub.status.busy": "2023-06-11T16:08:18.422397Z",
     "iopub.status.idle": "2023-06-11T16:08:18.438911Z",
     "shell.execute_reply": "2023-06-11T16:08:18.437665Z"
    },
    "papermill": {
     "duration": 0.027688,
     "end_time": "2023-06-11T16:08:18.440995",
     "exception": false,
     "start_time": "2023-06-11T16:08:18.413307",
     "status": "completed"
    },
    "tags": []
   },
   "outputs": [
    {
     "name": "stdout",
     "output_type": "stream",
     "text": [
      "Log Loss: 0.3196\n"
     ]
    }
   ],
   "source": [
    "logloss = log_loss(y_test, y_pred, labels=[0, 1], normalize=True)\n",
    "print(\"Log Loss: %.4f\" % logloss)"
   ]
  },
  {
   "cell_type": "code",
   "execution_count": 19,
   "id": "369c5502",
   "metadata": {
    "execution": {
     "iopub.execute_input": "2023-06-11T16:08:18.459184Z",
     "iopub.status.busy": "2023-06-11T16:08:18.458907Z",
     "iopub.status.idle": "2023-06-11T16:08:18.507012Z",
     "shell.execute_reply": "2023-06-11T16:08:18.506207Z"
    },
    "papermill": {
     "duration": 0.059377,
     "end_time": "2023-06-11T16:08:18.508938",
     "exception": false,
     "start_time": "2023-06-11T16:08:18.449561",
     "status": "completed"
    },
    "tags": []
   },
   "outputs": [],
   "source": [
    "y_pred = [1 if pred > 0.5 else 0 for pred in y_pred]"
   ]
  },
  {
   "cell_type": "code",
   "execution_count": 20,
   "id": "b65e3489",
   "metadata": {
    "execution": {
     "iopub.execute_input": "2023-06-11T16:08:18.527794Z",
     "iopub.status.busy": "2023-06-11T16:08:18.527053Z",
     "iopub.status.idle": "2023-06-11T16:08:18.542805Z",
     "shell.execute_reply": "2023-06-11T16:08:18.541546Z"
    },
    "papermill": {
     "duration": 0.027051,
     "end_time": "2023-06-11T16:08:18.544818",
     "exception": false,
     "start_time": "2023-06-11T16:08:18.517767",
     "status": "completed"
    },
    "tags": []
   },
   "outputs": [
    {
     "name": "stdout",
     "output_type": "stream",
     "text": [
      "Accuracy: 86.86%\n"
     ]
    }
   ],
   "source": [
    "# Evaluate the accuracy of the model\n",
    "accuracy = accuracy_score(y_test, y_pred)\n",
    "print(\"Accuracy: %.2f%%\" % (accuracy * 100.0))"
   ]
  },
  {
   "cell_type": "code",
   "execution_count": 21,
   "id": "4932a84f",
   "metadata": {
    "execution": {
     "iopub.execute_input": "2023-06-11T16:08:18.563630Z",
     "iopub.status.busy": "2023-06-11T16:08:18.562820Z",
     "iopub.status.idle": "2023-06-11T16:08:20.622970Z",
     "shell.execute_reply": "2023-06-11T16:08:20.622047Z"
    },
    "papermill": {
     "duration": 2.072103,
     "end_time": "2023-06-11T16:08:20.625602",
     "exception": false,
     "start_time": "2023-06-11T16:08:18.553499",
     "status": "completed"
    },
    "tags": []
   },
   "outputs": [],
   "source": [
    "to_do_sheet = pd.read_csv('/kaggle/input/recsys/sharechat_recsys2023_data/T_est/000000000000.csv',encoding='utf-8')"
   ]
  },
  {
   "cell_type": "code",
   "execution_count": 22,
   "id": "997faa6c",
   "metadata": {
    "execution": {
     "iopub.execute_input": "2023-06-11T16:08:20.645039Z",
     "iopub.status.busy": "2023-06-11T16:08:20.644754Z",
     "iopub.status.idle": "2023-06-11T16:08:20.666016Z",
     "shell.execute_reply": "2023-06-11T16:08:20.665114Z"
    },
    "papermill": {
     "duration": 0.033116,
     "end_time": "2023-06-11T16:08:20.668007",
     "exception": false,
     "start_time": "2023-06-11T16:08:20.634891",
     "status": "completed"
    },
    "tags": []
   },
   "outputs": [
    {
     "data": {
      "text/html": [
       "<div>\n",
       "<style scoped>\n",
       "    .dataframe tbody tr th:only-of-type {\n",
       "        vertical-align: middle;\n",
       "    }\n",
       "\n",
       "    .dataframe tbody tr th {\n",
       "        vertical-align: top;\n",
       "    }\n",
       "\n",
       "    .dataframe thead th {\n",
       "        text-align: right;\n",
       "    }\n",
       "</style>\n",
       "<table border=\"1\" class=\"dataframe\">\n",
       "  <thead>\n",
       "    <tr style=\"text-align: right;\">\n",
       "      <th></th>\n",
       "      <th>Unnamed: 0</th>\n",
       "      <th>0</th>\n",
       "      <th>1</th>\n",
       "      <th>2</th>\n",
       "      <th>3</th>\n",
       "      <th>4</th>\n",
       "      <th>5</th>\n",
       "      <th>6</th>\n",
       "      <th>7</th>\n",
       "      <th>8</th>\n",
       "      <th>...</th>\n",
       "      <th>70</th>\n",
       "      <th>71</th>\n",
       "      <th>72</th>\n",
       "      <th>73</th>\n",
       "      <th>74</th>\n",
       "      <th>75</th>\n",
       "      <th>76</th>\n",
       "      <th>77</th>\n",
       "      <th>78</th>\n",
       "      <th>79</th>\n",
       "    </tr>\n",
       "  </thead>\n",
       "  <tbody>\n",
       "    <tr>\n",
       "      <th>0</th>\n",
       "      <td>0</td>\n",
       "      <td>64505</td>\n",
       "      <td>67</td>\n",
       "      <td>26325</td>\n",
       "      <td>7152</td>\n",
       "      <td>21563</td>\n",
       "      <td>19475</td>\n",
       "      <td>31440</td>\n",
       "      <td>27941</td>\n",
       "      <td>21621</td>\n",
       "      <td>...</td>\n",
       "      <td>1.519085</td>\n",
       "      <td>0.0</td>\n",
       "      <td>0.000000</td>\n",
       "      <td>0.0</td>\n",
       "      <td>0.000000</td>\n",
       "      <td>0.000000</td>\n",
       "      <td>0.000000</td>\n",
       "      <td>0.0</td>\n",
       "      <td>0.0</td>\n",
       "      <td>0.0</td>\n",
       "    </tr>\n",
       "    <tr>\n",
       "      <th>1</th>\n",
       "      <td>1</td>\n",
       "      <td>64506</td>\n",
       "      <td>67</td>\n",
       "      <td>20095</td>\n",
       "      <td>563</td>\n",
       "      <td>22861</td>\n",
       "      <td>19475</td>\n",
       "      <td>21280</td>\n",
       "      <td>27941</td>\n",
       "      <td>19203</td>\n",
       "      <td>...</td>\n",
       "      <td>0.000000</td>\n",
       "      <td>0.0</td>\n",
       "      <td>0.000000</td>\n",
       "      <td>0.0</td>\n",
       "      <td>0.115692</td>\n",
       "      <td>1.156922</td>\n",
       "      <td>0.269948</td>\n",
       "      <td>0.0</td>\n",
       "      <td>0.0</td>\n",
       "      <td>0.0</td>\n",
       "    </tr>\n",
       "    <tr>\n",
       "      <th>2</th>\n",
       "      <td>2</td>\n",
       "      <td>64507</td>\n",
       "      <td>67</td>\n",
       "      <td>890</td>\n",
       "      <td>22294</td>\n",
       "      <td>18294</td>\n",
       "      <td>21545</td>\n",
       "      <td>20210</td>\n",
       "      <td>27941</td>\n",
       "      <td>18800</td>\n",
       "      <td>...</td>\n",
       "      <td>0.982995</td>\n",
       "      <td>0.0</td>\n",
       "      <td>0.000000</td>\n",
       "      <td>0.0</td>\n",
       "      <td>0.000000</td>\n",
       "      <td>1.156922</td>\n",
       "      <td>0.269948</td>\n",
       "      <td>0.0</td>\n",
       "      <td>0.0</td>\n",
       "      <td>0.0</td>\n",
       "    </tr>\n",
       "    <tr>\n",
       "      <th>3</th>\n",
       "      <td>3</td>\n",
       "      <td>64508</td>\n",
       "      <td>67</td>\n",
       "      <td>20095</td>\n",
       "      <td>563</td>\n",
       "      <td>22861</td>\n",
       "      <td>25604</td>\n",
       "      <td>21280</td>\n",
       "      <td>27941</td>\n",
       "      <td>18800</td>\n",
       "      <td>...</td>\n",
       "      <td>0.000000</td>\n",
       "      <td>0.0</td>\n",
       "      <td>2.284486</td>\n",
       "      <td>0.0</td>\n",
       "      <td>0.000000</td>\n",
       "      <td>1.156922</td>\n",
       "      <td>0.269948</td>\n",
       "      <td>0.0</td>\n",
       "      <td>0.0</td>\n",
       "      <td>0.0</td>\n",
       "    </tr>\n",
       "    <tr>\n",
       "      <th>4</th>\n",
       "      <td>4</td>\n",
       "      <td>64509</td>\n",
       "      <td>67</td>\n",
       "      <td>27426</td>\n",
       "      <td>22294</td>\n",
       "      <td>11338</td>\n",
       "      <td>19475</td>\n",
       "      <td>23855</td>\n",
       "      <td>27941</td>\n",
       "      <td>21218</td>\n",
       "      <td>...</td>\n",
       "      <td>0.986040</td>\n",
       "      <td>0.0</td>\n",
       "      <td>0.000000</td>\n",
       "      <td>0.0</td>\n",
       "      <td>0.077128</td>\n",
       "      <td>0.077128</td>\n",
       "      <td>0.077128</td>\n",
       "      <td>0.0</td>\n",
       "      <td>0.0</td>\n",
       "      <td>0.0</td>\n",
       "    </tr>\n",
       "  </tbody>\n",
       "</table>\n",
       "<p>5 rows × 81 columns</p>\n",
       "</div>"
      ],
      "text/plain": [
       "   Unnamed: 0      0   1      2      3      4      5      6      7      8  \\\n",
       "0           0  64505  67  26325   7152  21563  19475  31440  27941  21621   \n",
       "1           1  64506  67  20095    563  22861  19475  21280  27941  19203   \n",
       "2           2  64507  67    890  22294  18294  21545  20210  27941  18800   \n",
       "3           3  64508  67  20095    563  22861  25604  21280  27941  18800   \n",
       "4           4  64509  67  27426  22294  11338  19475  23855  27941  21218   \n",
       "\n",
       "   ...        70   71        72   73        74        75        76   77   78  \\\n",
       "0  ...  1.519085  0.0  0.000000  0.0  0.000000  0.000000  0.000000  0.0  0.0   \n",
       "1  ...  0.000000  0.0  0.000000  0.0  0.115692  1.156922  0.269948  0.0  0.0   \n",
       "2  ...  0.982995  0.0  0.000000  0.0  0.000000  1.156922  0.269948  0.0  0.0   \n",
       "3  ...  0.000000  0.0  2.284486  0.0  0.000000  1.156922  0.269948  0.0  0.0   \n",
       "4  ...  0.986040  0.0  0.000000  0.0  0.077128  0.077128  0.077128  0.0  0.0   \n",
       "\n",
       "    79  \n",
       "0  0.0  \n",
       "1  0.0  \n",
       "2  0.0  \n",
       "3  0.0  \n",
       "4  0.0  \n",
       "\n",
       "[5 rows x 81 columns]"
      ]
     },
     "execution_count": 22,
     "metadata": {},
     "output_type": "execute_result"
    }
   ],
   "source": [
    "to_do_sheet.head()"
   ]
  },
  {
   "cell_type": "code",
   "execution_count": 23,
   "id": "8de27da7",
   "metadata": {
    "execution": {
     "iopub.execute_input": "2023-06-11T16:08:20.687933Z",
     "iopub.status.busy": "2023-06-11T16:08:20.687680Z",
     "iopub.status.idle": "2023-06-11T16:08:20.692692Z",
     "shell.execute_reply": "2023-06-11T16:08:20.691818Z"
    },
    "papermill": {
     "duration": 0.017291,
     "end_time": "2023-06-11T16:08:20.694804",
     "exception": false,
     "start_time": "2023-06-11T16:08:20.677513",
     "status": "completed"
    },
    "tags": []
   },
   "outputs": [],
   "source": [
    "row_numbers = to_do_sheet['0']"
   ]
  },
  {
   "cell_type": "code",
   "execution_count": 24,
   "id": "4914964e",
   "metadata": {
    "execution": {
     "iopub.execute_input": "2023-06-11T16:08:20.714385Z",
     "iopub.status.busy": "2023-06-11T16:08:20.714126Z",
     "iopub.status.idle": "2023-06-11T16:08:20.748047Z",
     "shell.execute_reply": "2023-06-11T16:08:20.747142Z"
    },
    "papermill": {
     "duration": 0.046043,
     "end_time": "2023-06-11T16:08:20.750070",
     "exception": false,
     "start_time": "2023-06-11T16:08:20.704027",
     "status": "completed"
    },
    "tags": []
   },
   "outputs": [
    {
     "name": "stdout",
     "output_type": "stream",
     "text": [
      "Int64Index([     0,      2,      5,      6,     14,     15,     16,     17,\n",
      "                27,     28,\n",
      "            ...\n",
      "            160937, 160940, 160941, 160944, 160953, 160958, 160959, 160962,\n",
      "            160964, 160967],\n",
      "           dtype='int64', length=51128)\n"
     ]
    }
   ],
   "source": [
    "rows_with_nan = to_do_sheet.isnull().any(axis=1)\n",
    "indexes_with_nan = to_do_sheet[rows_with_nan].index\n",
    "print(indexes_with_nan)"
   ]
  },
  {
   "cell_type": "code",
   "execution_count": 25,
   "id": "033ccbd7",
   "metadata": {
    "execution": {
     "iopub.execute_input": "2023-06-11T16:08:20.771258Z",
     "iopub.status.busy": "2023-06-11T16:08:20.770485Z",
     "iopub.status.idle": "2023-06-11T16:08:21.009431Z",
     "shell.execute_reply": "2023-06-11T16:08:21.008477Z"
    },
    "papermill": {
     "duration": 0.251826,
     "end_time": "2023-06-11T16:08:21.011825",
     "exception": false,
     "start_time": "2023-06-11T16:08:20.759999",
     "status": "completed"
    },
    "tags": []
   },
   "outputs": [],
   "source": [
    "to_do_sheet.fillna(to_do_sheet.median(),inplace=True)"
   ]
  },
  {
   "cell_type": "code",
   "execution_count": 26,
   "id": "fefaeb1c",
   "metadata": {
    "execution": {
     "iopub.execute_input": "2023-06-11T16:08:21.032756Z",
     "iopub.status.busy": "2023-06-11T16:08:21.032407Z",
     "iopub.status.idle": "2023-06-11T16:08:21.059181Z",
     "shell.execute_reply": "2023-06-11T16:08:21.058148Z"
    },
    "papermill": {
     "duration": 0.039421,
     "end_time": "2023-06-11T16:08:21.061240",
     "exception": false,
     "start_time": "2023-06-11T16:08:21.021819",
     "status": "completed"
    },
    "tags": []
   },
   "outputs": [],
   "source": [
    "to_do_sheet.drop([\"Unnamed: 0\",\"24\",\"25\",\"27\",\"28\",\"29\"],axis=1,inplace=True)"
   ]
  },
  {
   "cell_type": "code",
   "execution_count": 27,
   "id": "907e037d",
   "metadata": {
    "execution": {
     "iopub.execute_input": "2023-06-11T16:08:21.082548Z",
     "iopub.status.busy": "2023-06-11T16:08:21.081794Z",
     "iopub.status.idle": "2023-06-11T16:08:21.107397Z",
     "shell.execute_reply": "2023-06-11T16:08:21.106287Z"
    },
    "papermill": {
     "duration": 0.038292,
     "end_time": "2023-06-11T16:08:21.109583",
     "exception": false,
     "start_time": "2023-06-11T16:08:21.071291",
     "status": "completed"
    },
    "tags": []
   },
   "outputs": [],
   "source": [
    "to_do_sheet.drop([\"0\",\"1\"],axis=1,inplace=True)"
   ]
  },
  {
   "cell_type": "code",
   "execution_count": 28,
   "id": "43314eb0",
   "metadata": {
    "execution": {
     "iopub.execute_input": "2023-06-11T16:08:21.130803Z",
     "iopub.status.busy": "2023-06-11T16:08:21.130498Z",
     "iopub.status.idle": "2023-06-11T16:08:21.152852Z",
     "shell.execute_reply": "2023-06-11T16:08:21.151733Z"
    },
    "papermill": {
     "duration": 0.035532,
     "end_time": "2023-06-11T16:08:21.155274",
     "exception": false,
     "start_time": "2023-06-11T16:08:21.119742",
     "status": "completed"
    },
    "tags": []
   },
   "outputs": [
    {
     "data": {
      "text/html": [
       "<div>\n",
       "<style scoped>\n",
       "    .dataframe tbody tr th:only-of-type {\n",
       "        vertical-align: middle;\n",
       "    }\n",
       "\n",
       "    .dataframe tbody tr th {\n",
       "        vertical-align: top;\n",
       "    }\n",
       "\n",
       "    .dataframe thead th {\n",
       "        text-align: right;\n",
       "    }\n",
       "</style>\n",
       "<table border=\"1\" class=\"dataframe\">\n",
       "  <thead>\n",
       "    <tr style=\"text-align: right;\">\n",
       "      <th></th>\n",
       "      <th>2</th>\n",
       "      <th>3</th>\n",
       "      <th>4</th>\n",
       "      <th>5</th>\n",
       "      <th>6</th>\n",
       "      <th>7</th>\n",
       "      <th>8</th>\n",
       "      <th>9</th>\n",
       "      <th>10</th>\n",
       "      <th>11</th>\n",
       "      <th>...</th>\n",
       "      <th>70</th>\n",
       "      <th>71</th>\n",
       "      <th>72</th>\n",
       "      <th>73</th>\n",
       "      <th>74</th>\n",
       "      <th>75</th>\n",
       "      <th>76</th>\n",
       "      <th>77</th>\n",
       "      <th>78</th>\n",
       "      <th>79</th>\n",
       "    </tr>\n",
       "  </thead>\n",
       "  <tbody>\n",
       "    <tr>\n",
       "      <th>0</th>\n",
       "      <td>26325</td>\n",
       "      <td>7152</td>\n",
       "      <td>21563</td>\n",
       "      <td>19475</td>\n",
       "      <td>31440</td>\n",
       "      <td>27941</td>\n",
       "      <td>21621</td>\n",
       "      <td>14659</td>\n",
       "      <td>21574</td>\n",
       "      <td>31460</td>\n",
       "      <td>...</td>\n",
       "      <td>1.519085</td>\n",
       "      <td>0.0</td>\n",
       "      <td>0.000000</td>\n",
       "      <td>0.0</td>\n",
       "      <td>0.000000</td>\n",
       "      <td>0.000000</td>\n",
       "      <td>0.000000</td>\n",
       "      <td>0.0</td>\n",
       "      <td>0.0</td>\n",
       "      <td>0.0</td>\n",
       "    </tr>\n",
       "    <tr>\n",
       "      <th>1</th>\n",
       "      <td>20095</td>\n",
       "      <td>563</td>\n",
       "      <td>22861</td>\n",
       "      <td>19475</td>\n",
       "      <td>21280</td>\n",
       "      <td>27941</td>\n",
       "      <td>19203</td>\n",
       "      <td>14659</td>\n",
       "      <td>21574</td>\n",
       "      <td>27957</td>\n",
       "      <td>...</td>\n",
       "      <td>0.000000</td>\n",
       "      <td>0.0</td>\n",
       "      <td>0.000000</td>\n",
       "      <td>0.0</td>\n",
       "      <td>0.115692</td>\n",
       "      <td>1.156922</td>\n",
       "      <td>0.269948</td>\n",
       "      <td>0.0</td>\n",
       "      <td>0.0</td>\n",
       "      <td>0.0</td>\n",
       "    </tr>\n",
       "    <tr>\n",
       "      <th>2</th>\n",
       "      <td>890</td>\n",
       "      <td>22294</td>\n",
       "      <td>18294</td>\n",
       "      <td>21545</td>\n",
       "      <td>20210</td>\n",
       "      <td>27941</td>\n",
       "      <td>18800</td>\n",
       "      <td>9638</td>\n",
       "      <td>19343</td>\n",
       "      <td>30375</td>\n",
       "      <td>...</td>\n",
       "      <td>0.982995</td>\n",
       "      <td>0.0</td>\n",
       "      <td>0.000000</td>\n",
       "      <td>0.0</td>\n",
       "      <td>0.000000</td>\n",
       "      <td>1.156922</td>\n",
       "      <td>0.269948</td>\n",
       "      <td>0.0</td>\n",
       "      <td>0.0</td>\n",
       "      <td>0.0</td>\n",
       "    </tr>\n",
       "    <tr>\n",
       "      <th>3</th>\n",
       "      <td>20095</td>\n",
       "      <td>563</td>\n",
       "      <td>22861</td>\n",
       "      <td>25604</td>\n",
       "      <td>21280</td>\n",
       "      <td>27941</td>\n",
       "      <td>18800</td>\n",
       "      <td>14659</td>\n",
       "      <td>22970</td>\n",
       "      <td>31863</td>\n",
       "      <td>...</td>\n",
       "      <td>0.000000</td>\n",
       "      <td>0.0</td>\n",
       "      <td>2.284486</td>\n",
       "      <td>0.0</td>\n",
       "      <td>0.000000</td>\n",
       "      <td>1.156922</td>\n",
       "      <td>0.269948</td>\n",
       "      <td>0.0</td>\n",
       "      <td>0.0</td>\n",
       "      <td>0.0</td>\n",
       "    </tr>\n",
       "    <tr>\n",
       "      <th>4</th>\n",
       "      <td>27426</td>\n",
       "      <td>22294</td>\n",
       "      <td>11338</td>\n",
       "      <td>19475</td>\n",
       "      <td>23855</td>\n",
       "      <td>27941</td>\n",
       "      <td>21218</td>\n",
       "      <td>9638</td>\n",
       "      <td>21574</td>\n",
       "      <td>30778</td>\n",
       "      <td>...</td>\n",
       "      <td>0.986040</td>\n",
       "      <td>0.0</td>\n",
       "      <td>0.000000</td>\n",
       "      <td>0.0</td>\n",
       "      <td>0.077128</td>\n",
       "      <td>0.077128</td>\n",
       "      <td>0.077128</td>\n",
       "      <td>0.0</td>\n",
       "      <td>0.0</td>\n",
       "      <td>0.0</td>\n",
       "    </tr>\n",
       "  </tbody>\n",
       "</table>\n",
       "<p>5 rows × 73 columns</p>\n",
       "</div>"
      ],
      "text/plain": [
       "       2      3      4      5      6      7      8      9     10     11  ...  \\\n",
       "0  26325   7152  21563  19475  31440  27941  21621  14659  21574  31460  ...   \n",
       "1  20095    563  22861  19475  21280  27941  19203  14659  21574  27957  ...   \n",
       "2    890  22294  18294  21545  20210  27941  18800   9638  19343  30375  ...   \n",
       "3  20095    563  22861  25604  21280  27941  18800  14659  22970  31863  ...   \n",
       "4  27426  22294  11338  19475  23855  27941  21218   9638  21574  30778  ...   \n",
       "\n",
       "         70   71        72   73        74        75        76   77   78   79  \n",
       "0  1.519085  0.0  0.000000  0.0  0.000000  0.000000  0.000000  0.0  0.0  0.0  \n",
       "1  0.000000  0.0  0.000000  0.0  0.115692  1.156922  0.269948  0.0  0.0  0.0  \n",
       "2  0.982995  0.0  0.000000  0.0  0.000000  1.156922  0.269948  0.0  0.0  0.0  \n",
       "3  0.000000  0.0  2.284486  0.0  0.000000  1.156922  0.269948  0.0  0.0  0.0  \n",
       "4  0.986040  0.0  0.000000  0.0  0.077128  0.077128  0.077128  0.0  0.0  0.0  \n",
       "\n",
       "[5 rows x 73 columns]"
      ]
     },
     "execution_count": 28,
     "metadata": {},
     "output_type": "execute_result"
    }
   ],
   "source": [
    "to_do_sheet.head()"
   ]
  },
  {
   "cell_type": "code",
   "execution_count": 29,
   "id": "3bd6a1e4",
   "metadata": {
    "execution": {
     "iopub.execute_input": "2023-06-11T16:08:21.176062Z",
     "iopub.status.busy": "2023-06-11T16:08:21.175804Z",
     "iopub.status.idle": "2023-06-11T16:08:21.682464Z",
     "shell.execute_reply": "2023-06-11T16:08:21.681515Z"
    },
    "papermill": {
     "duration": 0.519933,
     "end_time": "2023-06-11T16:08:21.684904",
     "exception": false,
     "start_time": "2023-06-11T16:08:21.164971",
     "status": "completed"
    },
    "tags": []
   },
   "outputs": [],
   "source": [
    "get_D_tds = xgb.DMatrix(to_do_sheet, label=None)"
   ]
  },
  {
   "cell_type": "code",
   "execution_count": 30,
   "id": "89cb1b60",
   "metadata": {
    "execution": {
     "iopub.execute_input": "2023-06-11T16:08:21.708225Z",
     "iopub.status.busy": "2023-06-11T16:08:21.707900Z",
     "iopub.status.idle": "2023-06-11T16:08:32.701765Z",
     "shell.execute_reply": "2023-06-11T16:08:32.700759Z"
    },
    "papermill": {
     "duration": 11.007776,
     "end_time": "2023-06-11T16:08:32.704230",
     "exception": false,
     "start_time": "2023-06-11T16:08:21.696454",
     "status": "completed"
    },
    "tags": []
   },
   "outputs": [],
   "source": [
    "submitting_list = model.predict(get_D_tds)"
   ]
  },
  {
   "cell_type": "code",
   "execution_count": 31,
   "id": "a4a77265",
   "metadata": {
    "execution": {
     "iopub.execute_input": "2023-06-11T16:08:32.727439Z",
     "iopub.status.busy": "2023-06-11T16:08:32.725766Z",
     "iopub.status.idle": "2023-06-11T16:08:32.733651Z",
     "shell.execute_reply": "2023-06-11T16:08:32.732755Z"
    },
    "papermill": {
     "duration": 0.021221,
     "end_time": "2023-06-11T16:08:32.736031",
     "exception": false,
     "start_time": "2023-06-11T16:08:32.714810",
     "status": "completed"
    },
    "tags": []
   },
   "outputs": [
    {
     "data": {
      "text/plain": [
       "array([0.34215564, 0.63896924, 0.04644407, ..., 0.00892155, 0.14877419,\n",
       "       0.09579473], dtype=float32)"
      ]
     },
     "execution_count": 31,
     "metadata": {},
     "output_type": "execute_result"
    }
   ],
   "source": [
    "submitting_list"
   ]
  },
  {
   "cell_type": "code",
   "execution_count": 32,
   "id": "b3a486f2",
   "metadata": {
    "execution": {
     "iopub.execute_input": "2023-06-11T16:08:32.757535Z",
     "iopub.status.busy": "2023-06-11T16:08:32.757267Z",
     "iopub.status.idle": "2023-06-11T16:08:32.772802Z",
     "shell.execute_reply": "2023-06-11T16:08:32.771810Z"
    },
    "papermill": {
     "duration": 0.02959,
     "end_time": "2023-06-11T16:08:32.775707",
     "exception": false,
     "start_time": "2023-06-11T16:08:32.746117",
     "status": "completed"
    },
    "tags": []
   },
   "outputs": [],
   "source": [
    "final_file = pd.DataFrame({'row_id':row_numbers,'is_clicked':submitting_list,'is_installed':submitting_list})"
   ]
  },
  {
   "cell_type": "code",
   "execution_count": 33,
   "id": "ef1186ab",
   "metadata": {
    "execution": {
     "iopub.execute_input": "2023-06-11T16:08:32.814004Z",
     "iopub.status.busy": "2023-06-11T16:08:32.813629Z",
     "iopub.status.idle": "2023-06-11T16:08:32.830749Z",
     "shell.execute_reply": "2023-06-11T16:08:32.829317Z"
    },
    "papermill": {
     "duration": 0.046605,
     "end_time": "2023-06-11T16:08:32.836773",
     "exception": false,
     "start_time": "2023-06-11T16:08:32.790168",
     "status": "completed"
    },
    "tags": []
   },
   "outputs": [
    {
     "data": {
      "text/html": [
       "<div>\n",
       "<style scoped>\n",
       "    .dataframe tbody tr th:only-of-type {\n",
       "        vertical-align: middle;\n",
       "    }\n",
       "\n",
       "    .dataframe tbody tr th {\n",
       "        vertical-align: top;\n",
       "    }\n",
       "\n",
       "    .dataframe thead th {\n",
       "        text-align: right;\n",
       "    }\n",
       "</style>\n",
       "<table border=\"1\" class=\"dataframe\">\n",
       "  <thead>\n",
       "    <tr style=\"text-align: right;\">\n",
       "      <th></th>\n",
       "      <th>row_id</th>\n",
       "      <th>is_clicked</th>\n",
       "      <th>is_installed</th>\n",
       "    </tr>\n",
       "  </thead>\n",
       "  <tbody>\n",
       "    <tr>\n",
       "      <th>0</th>\n",
       "      <td>64505</td>\n",
       "      <td>0.342156</td>\n",
       "      <td>0.342156</td>\n",
       "    </tr>\n",
       "    <tr>\n",
       "      <th>1</th>\n",
       "      <td>64506</td>\n",
       "      <td>0.638969</td>\n",
       "      <td>0.638969</td>\n",
       "    </tr>\n",
       "    <tr>\n",
       "      <th>2</th>\n",
       "      <td>64507</td>\n",
       "      <td>0.046444</td>\n",
       "      <td>0.046444</td>\n",
       "    </tr>\n",
       "    <tr>\n",
       "      <th>3</th>\n",
       "      <td>64508</td>\n",
       "      <td>0.731130</td>\n",
       "      <td>0.731130</td>\n",
       "    </tr>\n",
       "    <tr>\n",
       "      <th>4</th>\n",
       "      <td>64509</td>\n",
       "      <td>0.085080</td>\n",
       "      <td>0.085080</td>\n",
       "    </tr>\n",
       "  </tbody>\n",
       "</table>\n",
       "</div>"
      ],
      "text/plain": [
       "   row_id  is_clicked  is_installed\n",
       "0   64505    0.342156      0.342156\n",
       "1   64506    0.638969      0.638969\n",
       "2   64507    0.046444      0.046444\n",
       "3   64508    0.731130      0.731130\n",
       "4   64509    0.085080      0.085080"
      ]
     },
     "execution_count": 33,
     "metadata": {},
     "output_type": "execute_result"
    }
   ],
   "source": [
    "final_file.head()"
   ]
  },
  {
   "cell_type": "code",
   "execution_count": 34,
   "id": "3fa63b45",
   "metadata": {
    "execution": {
     "iopub.execute_input": "2023-06-11T16:08:32.864992Z",
     "iopub.status.busy": "2023-06-11T16:08:32.864686Z",
     "iopub.status.idle": "2023-06-11T16:08:33.484201Z",
     "shell.execute_reply": "2023-06-11T16:08:33.483261Z"
    },
    "papermill": {
     "duration": 0.633153,
     "end_time": "2023-06-11T16:08:33.486558",
     "exception": false,
     "start_time": "2023-06-11T16:08:32.853405",
     "status": "completed"
    },
    "tags": []
   },
   "outputs": [],
   "source": [
    "final_file.to_csv('new_file_xg.tsv', sep='\\t', index=False)"
   ]
  }
 ],
 "metadata": {
  "kernelspec": {
   "display_name": "Python 3",
   "language": "python",
   "name": "python3"
  },
  "language_info": {
   "codemirror_mode": {
    "name": "ipython",
    "version": 3
   },
   "file_extension": ".py",
   "mimetype": "text/x-python",
   "name": "python",
   "nbconvert_exporter": "python",
   "pygments_lexer": "ipython3",
   "version": "3.10.10"
  },
  "papermill": {
   "default_parameters": {},
   "duration": 301.205366,
   "end_time": "2023-06-11T16:08:35.222360",
   "environment_variables": {},
   "exception": null,
   "input_path": "__notebook__.ipynb",
   "output_path": "__notebook__.ipynb",
   "parameters": {},
   "start_time": "2023-06-11T16:03:34.016994",
   "version": "2.4.0"
  }
 },
 "nbformat": 4,
 "nbformat_minor": 5
}
